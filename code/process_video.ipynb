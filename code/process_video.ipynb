{
 "cells": [
  {
   "cell_type": "code",
   "execution_count": 1,
   "id": "c2636a1e-1048-4189-a3ed-2d62264d8515",
   "metadata": {},
   "outputs": [],
   "source": [
    "%load_ext autoreload\n",
    "%autoreload 2\n",
    "import random\n",
    "from cap.dehaze import dehaze as cap_dehaze_img\n",
    "from dcp.dehaze import dehaze as dcp_dehaze_img\n",
    "from cap.dehaze import dehaze_video as cap_dehaze_vid\n",
    "from dcp.dehaze import dehaze_video as dcp_dehaze_vid\n",
    "\n",
    "from config import config\n",
    "import os\n",
    "from glob import glob\n",
    "from matplotlib import pyplot as plt\n",
    "import cv2\n",
    "from sklearn.metrics import mean_squared_error as compute_mse\n",
    "from skimage.metrics import peak_signal_noise_ratio as compute_psnr\n",
    "from skimage.metrics import structural_similarity as compute_ssim\n",
    "from tqdm import tqdm\n",
    "import timeit\n",
    "import numpy as np"
   ]
  },
  {
   "cell_type": "code",
   "execution_count": 2,
   "id": "ccd6b00e-b06a-4a94-ba2a-d7d50f93e17f",
   "metadata": {},
   "outputs": [],
   "source": [
    "_REVIDE_PATH = 'D:\\\\data\\\\dehaze\\\\REVIDE_inside\\\\Train'\n",
    "_RESULT_PATH = '../result'\n",
    "_VIDEO_PATH = 'D:\\\\data\\\\dehaze'"
   ]
  },
  {
   "cell_type": "code",
   "execution_count": 3,
   "id": "3b0fb510-cc54-45f0-abcc-326a22bc17fd",
   "metadata": {},
   "outputs": [],
   "source": [
    "hazy_fold_path = os.path.join(_REVIDE_PATH, 'hazy', 'E001')\n",
    "clear_fold_path = os.path.join(_REVIDE_PATH, 'gt', 'E001')"
   ]
  },
  {
   "cell_type": "code",
   "execution_count": 4,
   "id": "28e505ab-75c0-4c70-8716-9057f4332675",
   "metadata": {},
   "outputs": [],
   "source": [
    "def get_clear(hazy_img_path):\n",
    "    clear_img_path = hazy_img_path.replace('hazy', 'gt')\n",
    "    return clear_img_path"
   ]
  },
  {
   "cell_type": "code",
   "execution_count": 5,
   "id": "9002d1e1-d62c-477a-a920-9e11d1c38510",
   "metadata": {},
   "outputs": [],
   "source": [
    "def fbf_dehaze_with_global_atm(hazy, method, bov, g_atm):\n",
    "    start = timeit.default_timer()\n",
    "    if method == 'dcp':\n",
    "        dehaze_frame, g_atm = dcp_dehaze_vid(hazy, config['dcp'], g_atm, bov)\n",
    "    else:\n",
    "        dehaze_frame, g_atm = cap_dehaze_vid(hazy, config['cap'], g_atm, bov)\n",
    "    \n",
    "    end = timeit.default_timer()\n",
    "    time = end - start\n",
    "    return dehaze_frame, g_atm, time\n",
    "\n",
    "def fbf_dehaze_without_global_atm(hazy, method):\n",
    "    start = timeit.default_timer()\n",
    "    if method == 'dcp':\n",
    "        dehaze_frame = dcp_dehaze_img(hazy, config['dcp'])\n",
    "    else:\n",
    "        dehaze_frame = cap_dehaze_img(hazy, config['cap'])\n",
    "    \n",
    "    end = timeit.default_timer()\n",
    "    time = end - start\n",
    "    return dehaze_frame, time"
   ]
  },
  {
   "cell_type": "code",
   "execution_count": 6,
   "id": "32d053d0-b026-4f0b-9547-14dea2904437",
   "metadata": {},
   "outputs": [],
   "source": [
    "def process_real_video(in_name, out_name, method, vid_fps, vid_size, use_global = True):\n",
    "    cap = cv2.VideoCapture(os.path.join(_VIDEO_PATH,in_name))\n",
    "    fourcc = cv2.VideoWriter_fourcc(*'XVID')\n",
    "    out = cv2.VideoWriter(out_name, fourcc, vid_fps, vid_size)\n",
    "    list_time = []\n",
    "    while(cap.isOpened()):\n",
    "        ret, hazy_frame = cap.read()\n",
    "        try:\n",
    "            if (cv2.waitKey(1)) & (0xFF == ord('q')) & (hazy_frame is None):\n",
    "                cap.release()\n",
    "            else:\n",
    "                if use_global:\n",
    "                    if len(list_time)==0:\n",
    "                        bov = True\n",
    "                        g_atm = np.zeros((1,3))\n",
    "                    else:\n",
    "                        bov = False\n",
    "                    dehaze_frame, g_atm, time = fbf_dehaze_with_global_atm(hazy_frame, method, bov, g_atm)\n",
    "                else:\n",
    "                    dehaze_frame, time = fbf_dehaze_without_global_atm(hazy_frame, method)\n",
    "                list_time.append(time)\n",
    "                out.write(dehaze_frame)\n",
    "        except Exception as e:\n",
    "            print(e)\n",
    "            cap.release()\n",
    "    out.release()\n",
    "    return list_time"
   ]
  },
  {
   "cell_type": "code",
   "execution_count": 8,
   "id": "a0a0467e-9821-464d-af45-d24a1d324eb0",
   "metadata": {},
   "outputs": [
    {
     "name": "stderr",
     "output_type": "stream",
     "text": [
      " 50%|████████████████████████████████                                | 1/2 [00:36<00:36, 36.13s/it]"
     ]
    },
    {
     "name": "stdout",
     "output_type": "stream",
     "text": [
      "'NoneType' object has no attribute 'copy'\n",
      "Processing time by dcp: 31.950\n"
     ]
    },
    {
     "name": "stderr",
     "output_type": "stream",
     "text": [
      "100%|████████████████████████████████████████████████████████████████| 2/2 [01:46<00:00, 53.01s/it]\n"
     ]
    },
    {
     "name": "stdout",
     "output_type": "stream",
     "text": [
      "OpenCV(4.5.3) C:\\Users\\runneradmin\\AppData\\Local\\Temp\\pip-req-build-c2l3r8zm\\opencv\\modules\\imgproc\\src\\color.cpp:182: error: (-215:Assertion failed) !_src.empty() in function 'cv::cvtColor'\n",
      "\n",
      "Processing time by cap: 65.887\n"
     ]
    },
    {
     "name": "stderr",
     "output_type": "stream",
     "text": [
      " 50%|████████████████████████████████                                | 1/2 [00:36<00:36, 36.43s/it]"
     ]
    },
    {
     "name": "stdout",
     "output_type": "stream",
     "text": [
      "'NoneType' object has no attribute 'copy'\n",
      "Processing time by dcp: 32.213\n"
     ]
    },
    {
     "name": "stderr",
     "output_type": "stream",
     "text": [
      "100%|████████████████████████████████████████████████████████████████| 2/2 [01:55<00:00, 57.64s/it]"
     ]
    },
    {
     "name": "stdout",
     "output_type": "stream",
     "text": [
      "OpenCV(4.5.3) C:\\Users\\runneradmin\\AppData\\Local\\Temp\\pip-req-build-c2l3r8zm\\opencv\\modules\\imgproc\\src\\color.cpp:182: error: (-215:Assertion failed) !_src.empty() in function 'cv::cvtColor'\n",
      "\n",
      "Processing time by cap: 74.939\n"
     ]
    },
    {
     "name": "stderr",
     "output_type": "stream",
     "text": [
      "\n"
     ]
    }
   ],
   "source": [
    "vid_in_name = 'cross_10s.mp4'\n",
    "vid_size = (640, 480)\n",
    "vid_fps = 30\n",
    "for g in [True, False]:\n",
    "    for method in tqdm(['dcp', 'cap']):\n",
    "        vid_out_name = vid_in_name.split('.')[0]\n",
    "        out_fold = os.path.join(_VIDEO_PATH, vid_out_name)\n",
    "        if not os.path.isdir(out_fold):\n",
    "            os.mkdir(out_fold)\n",
    "        vid_in = os.path.join(_VIDEO_PATH,vid_in_name)\n",
    "        if g:\n",
    "            vid_out = os.path.join(out_fold, f'{method}_gatm.avi')\n",
    "        else:\n",
    "            vid_out = os.path.join(out_fold, f'{method}.avi')\n",
    "        time = process_real_video(vid_in, vid_out, method, vid_fps, vid_size, use_global = g)\n",
    "        print(f'Processing time by {method}: {np.sum(time):.3f}')"
   ]
  },
  {
   "cell_type": "markdown",
   "id": "803b729d-d143-400d-806c-5c282d1ed53c",
   "metadata": {},
   "source": [
    "### Investigate after creating video"
   ]
  },
  {
   "cell_type": "code",
   "execution_count": null,
   "id": "aebff4c5-6431-4dad-8242-176f9b8a68c1",
   "metadata": {},
   "outputs": [],
   "source": [
    "# video_name = 'traffic.mp4'\n",
    "# vid_size = (600, 334)\n",
    "# vid_fps = 30\n",
    "# # cap = cv2.VideoCapture(os.path.join(_VIDEO_PATH,video_name))\n",
    "\n",
    "# for omg in tqdm(list_omgs):\n",
    "#     config['dcp']['omega'] = omg\n",
    "#     method = 'dcp'\n",
    "#     out_name = video_name.split('.')[0]\n",
    "#     out = cv2.VideoCapture(os.path.join(os.path.join(_VIDEO_PATH, out_name), f'{method}_{omg:.2f}.avi'))\n",
    "\n",
    "#     list_time = []\n",
    "#     while(out.isOpened()):\n",
    "#         _, dehazy_frame = out.read()\n",
    "#         out.release()\n",
    "#     color = (0, 0, 255)\n",
    "\n",
    "# #     cv2.imwrite(f'../result/traffic/{out_name}_hazy_frame.png', hazy_frame)\n",
    "# #     hazy_frame_maker = cv2.rectangle(hazy_frame.copy(), (340, 290), (500,320), color, 2)\n",
    "# #     cv2.imwrite(f'../result/traffic/{out_name}_hazy_frame_marker.png', hazy_frame_maker)\n",
    "# #     cv2.imwrite(f'../result/traffic/{out_name}_hazy_marker.png', hazy_frame[290:320,340:500])\n",
    "    \n",
    "#     cv2.imwrite(os.path.join(_VIDEO_PATH, out_name + '_analysis', f'dehazy_frame_{omg:.2f}.png'), dehazy_frame)\n",
    "#     dehazy_frame_maker = cv2.rectangle(dehazy_frame.copy(), (340, 290), (500,320), color, 2)\n",
    "#     cv2.imwrite(os.path.join(_VIDEO_PATH, out_name + '_analysis', f'dehazy_frame_marker_{omg:.2f}.png'), dehazy_frame_maker)\n",
    "#     cv2.imwrite(os.path.join(_VIDEO_PATH, out_name + '_analysis', f'dehazy_marker_{omg:.2f}.png'), dehazy_frame[290:320,340:500])"
   ]
  }
 ],
 "metadata": {
  "kernelspec": {
   "display_name": "vision",
   "language": "python",
   "name": "vision"
  },
  "language_info": {
   "codemirror_mode": {
    "name": "ipython",
    "version": 3
   },
   "file_extension": ".py",
   "mimetype": "text/x-python",
   "name": "python",
   "nbconvert_exporter": "python",
   "pygments_lexer": "ipython3",
   "version": "3.7.11"
  }
 },
 "nbformat": 4,
 "nbformat_minor": 5
}
