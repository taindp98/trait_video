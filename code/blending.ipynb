{
 "cells": [
  {
   "cell_type": "markdown",
   "id": "bce4565f-7fc4-4f30-a5ae-2eb02153e0ba",
   "metadata": {},
   "source": [
    "# Notebook: Synthetic video and Blending"
   ]
  },
  {
   "cell_type": "code",
   "execution_count": 1,
   "id": "9bfe0895-2e9e-405a-a38f-d733d43d6e19",
   "metadata": {},
   "outputs": [],
   "source": [
    "%load_ext autoreload\n",
    "%autoreload 2\n",
    "import cv2\n",
    "from PIL import Image\n",
    "import os\n",
    "from glob import glob\n",
    "import numpy as np\n",
    "from tqdm import tqdm\n",
    "import skvideo.io\n",
    "from matplotlib import pyplot as plt\n",
    "import sys\n",
    "from utils import resize_aspect_ratio"
   ]
  },
  {
   "cell_type": "code",
   "execution_count": 2,
   "id": "3a165027-0393-44e5-b71e-5166a3f33cdd",
   "metadata": {},
   "outputs": [
    {
     "data": {
      "text/plain": [
       "<numpy.errstate at 0x2453331a3c8>"
      ]
     },
     "execution_count": 2,
     "metadata": {},
     "output_type": "execute_result"
    }
   ],
   "source": [
    "np.set_printoptions(threshold=np.inf)\n",
    "np.errstate(invalid='ignore', divide='ignore')"
   ]
  },
  {
   "cell_type": "code",
   "execution_count": 3,
   "id": "954e1c8f-f980-4c44-932e-06ca976cd558",
   "metadata": {},
   "outputs": [],
   "source": [
    "_NYU_PATH = 'D:\\\\data\\\\dehaze\\\\nyu\\\\bedroom_0131'\n",
    "_REVIDE_PATH = 'D:\\\\data\\\\dehaze\\\\REVIDE_inside\\\\Train\\\\gt\\\\E001_2'\n",
    "_RESULT_PATH = '../result'\n",
    "_VIDEO_PATH = 'D:\\\\data\\\\dehaze'\n",
    "_FOG = '../data/fog_square.png'"
   ]
  },
  {
   "cell_type": "code",
   "execution_count": 4,
   "id": "eb410676-87b2-416e-9d2c-d61994ae7c33",
   "metadata": {},
   "outputs": [
    {
     "name": "stderr",
     "output_type": "stream",
     "text": [
      "100%|██████████████████████████████████████████████████████| 4318/4318 [00:00<00:00, 240527.57it/s]\n"
     ]
    }
   ],
   "source": [
    "index_file = open(os.path.join(_NYU_PATH, 'index.txt'), 'r')\n",
    "index_lines = index_file.readlines()\n",
    "index_nyu = []\n",
    "origin_frame = []\n",
    "depth_frame = []\n",
    "clear_line = None\n",
    "depth_line = None\n",
    "for line in tqdm(index_lines):\n",
    "    if line.startswith('r'):\n",
    "        clear_line = os.path.join(_NYU_PATH, line.replace('\\n',''))\n",
    "        origin_frame.append(clear_line)\n",
    "    elif line.startswith('d'):\n",
    "        depth_line = os.path.join(_NYU_PATH, line.replace('\\n',''))\n",
    "        depth_frame.append(depth_line)"
   ]
  },
  {
   "cell_type": "code",
   "execution_count": 5,
   "id": "187d1564-174f-48a7-b555-826066e1ba7e",
   "metadata": {},
   "outputs": [],
   "source": [
    "def synthetic_video(vid_name, frames, vid_fps = 60, _type = 'original', resize = True):\n",
    "    if resize:\n",
    "        vid_size = sorted(resize_aspect_ratio(frames[0]).shape[:2], reverse=True)\n",
    "    else:\n",
    "        vid_size = sorted(frames[0].shape[:2], reverse=True)\n",
    "    fourcc = cv2.VideoWriter_fourcc(*'XVID')\n",
    "    out_fold = os.path.join(_VIDEO_PATH, _NYU_PATH.split('\\\\')[-1])\n",
    "    if not os.path.isdir(out_fold):\n",
    "        os.mkdir(out_fold)\n",
    "    out_name = os.path.join(out_fold, _type + '.avi')\n",
    "    out = cv2.VideoWriter(out_name, fourcc, vid_fps, vid_size)\n",
    "    for img in tqdm(frames):\n",
    "        if resize:\n",
    "            img = resize_aspect_ratio(img)\n",
    "        out.write(img)\n",
    "    out.release()\n",
    "    print('Done synthetic video from images')"
   ]
  },
  {
   "cell_type": "code",
   "execution_count": 6,
   "id": "73b43049-302c-4614-9b7f-c2511ad4d0d4",
   "metadata": {},
   "outputs": [],
   "source": [
    "def blending(clear, fog):\n",
    "    \"\"\"\n",
    "    Alpha blending\n",
    "    param:\n",
    "        clear: is original image path\n",
    "        fog: is fog image path\n",
    "    return:\n",
    "        hazy: is hazy-image\n",
    "    \"\"\"\n",
    "    clear = cv2.imread(clear)\n",
    "    fog = cv2.imread(fog)\n",
    "    fog = cv2.resize(fog, clear.shape[1::-1])\n",
    "    hazy = cv2.addWeighted(clear, 0.5, fog, 0.5, 0)\n",
    "    return hazy"
   ]
  },
  {
   "cell_type": "code",
   "execution_count": 7,
   "id": "28d93d61-90c8-435d-a956-ffcdf9fae9aa",
   "metadata": {},
   "outputs": [
    {
     "name": "stderr",
     "output_type": "stream",
     "text": [
      "100%|████████████████████████████████████████████████████████████| 200/200 [00:02<00:00, 76.00it/s]\n",
      "100%|███████████████████████████████████████████████████████████| 200/200 [00:00<00:00, 257.81it/s]"
     ]
    },
    {
     "name": "stdout",
     "output_type": "stream",
     "text": [
      "Done synthetic video from images\n"
     ]
    },
    {
     "name": "stderr",
     "output_type": "stream",
     "text": [
      "\n"
     ]
    }
   ],
   "source": [
    "vid_out_name = _NYU_PATH.split('\\\\')[-1]+'.avi'\n",
    "frame_arr = []\n",
    "for f in tqdm(origin_frame[:200]):\n",
    "    frame_arr.append(cv2.imread(f))\n",
    "synthetic_video(vid_out_name, frame_arr, vid_fps = 30, _type = 'original', resize = False)"
   ]
  },
  {
   "cell_type": "code",
   "execution_count": 8,
   "id": "cd27eb69-061f-4e05-892d-a57d95ca5ad3",
   "metadata": {},
   "outputs": [
    {
     "name": "stderr",
     "output_type": "stream",
     "text": [
      "100%|████████████████████████████████████████████████████████████| 200/200 [00:02<00:00, 87.82it/s]\n",
      "100%|███████████████████████████████████████████████████████████| 200/200 [00:01<00:00, 168.26it/s]"
     ]
    },
    {
     "name": "stdout",
     "output_type": "stream",
     "text": [
      "Done synthetic video from images\n"
     ]
    },
    {
     "name": "stderr",
     "output_type": "stream",
     "text": [
      "\n"
     ]
    }
   ],
   "source": [
    "vid_out_name = _NYU_PATH.split('\\\\')[-1]+'.avi'\n",
    "frame_arr = []\n",
    "for f in tqdm(origin_frame[:200]):\n",
    "    h = blending(f,_FOG)\n",
    "    frame_arr.append(h)\n",
    "synthetic_video(vid_out_name, frame_arr, vid_fps = 30, _type = 'hazy', resize = False)"
   ]
  },
  {
   "cell_type": "code",
   "execution_count": 9,
   "id": "0a5380b2-7e76-4446-91d1-feee25212d8f",
   "metadata": {},
   "outputs": [],
   "source": [
    "list_imgs = sorted(glob(os.path.join(_REVIDE_PATH, '*.jpg')))\n",
    "list_hazy = sorted(glob(os.path.join(_REVIDE_PATH.replace('gt','hazy'), '*.jpg')))"
   ]
  },
  {
   "cell_type": "code",
   "execution_count": 10,
   "id": "a3499251-0fbf-4f31-823a-4e773584dc45",
   "metadata": {},
   "outputs": [
    {
     "data": {
      "text/plain": [
       "(66, 66)"
      ]
     },
     "execution_count": 10,
     "metadata": {},
     "output_type": "execute_result"
    }
   ],
   "source": [
    "len(list_imgs), len(list_hazy)"
   ]
  },
  {
   "cell_type": "code",
   "execution_count": 11,
   "id": "8f31e8ae-9e22-421a-92d9-67cda7c61f69",
   "metadata": {},
   "outputs": [],
   "source": [
    "# vid_out_name = _REVIDE_PATH.split('\\\\')[-1]+'.avi'\n",
    "# frame_arr = []\n",
    "# for f in tqdm(list_imgs):\n",
    "#     frame_arr.append(cv2.imread(f))\n",
    "# synthetic_video(vid_out_name, frame_arr, vid_fps = 60, _type = 'original', resize = True)"
   ]
  }
 ],
 "metadata": {
  "kernelspec": {
   "display_name": "vision",
   "language": "python",
   "name": "vision"
  },
  "language_info": {
   "codemirror_mode": {
    "name": "ipython",
    "version": 3
   },
   "file_extension": ".py",
   "mimetype": "text/x-python",
   "name": "python",
   "nbconvert_exporter": "python",
   "pygments_lexer": "ipython3",
   "version": "3.7.11"
  }
 },
 "nbformat": 4,
 "nbformat_minor": 5
}
