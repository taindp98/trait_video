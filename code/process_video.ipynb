{
 "cells": [
  {
   "cell_type": "code",
   "execution_count": 1,
   "id": "c2636a1e-1048-4189-a3ed-2d62264d8515",
   "metadata": {},
   "outputs": [],
   "source": [
    "%load_ext autoreload\n",
    "%autoreload 2\n",
    "import random\n",
    "from cap.dehaze import dehaze as cap_dehaze\n",
    "from dcp.dehaze import dehaze as dcp_dehaze\n",
    "from config import config\n",
    "import os\n",
    "from glob import glob\n",
    "from matplotlib import pyplot as plt\n",
    "import cv2\n",
    "from sklearn.metrics import mean_squared_error as compute_mse\n",
    "from skimage.metrics import peak_signal_noise_ratio as compute_psnr\n",
    "from skimage.metrics import structural_similarity as compute_ssim\n",
    "from tqdm import tqdm\n",
    "import timeit\n",
    "import numpy as np"
   ]
  },
  {
   "cell_type": "code",
   "execution_count": 2,
   "id": "ccd6b00e-b06a-4a94-ba2a-d7d50f93e17f",
   "metadata": {},
   "outputs": [],
   "source": [
    "# _RESIDE_PATH = 'D:\\\\data\\\\reside\\\\indoor_train'\n",
    "_RESULT_PATH = '../result'\n",
    "_VIDEO_PATH = 'D:\\\\data\\\\dehaze'"
   ]
  },
  {
   "cell_type": "code",
   "execution_count": 3,
   "id": "3b0fb510-cc54-45f0-abcc-326a22bc17fd",
   "metadata": {},
   "outputs": [],
   "source": [
    "# hazy_fold_path = os.path.join(_RESIDE_PATH,'hazy')\n",
    "# clear_fold_path = os.path.join(_RESIDE_PATH,'clear')"
   ]
  },
  {
   "cell_type": "code",
   "execution_count": 4,
   "id": "b9f57d8d-96c7-4904-856f-82c71efb890f",
   "metadata": {},
   "outputs": [],
   "source": [
    "def get_clear(hazy_img_path, clear_fold_path):\n",
    "    hazy_img_path = hazy_img_path.replace('\\\\', '/')\n",
    "    clear_file = hazy_img_path.split('/')[-1].split('_')[0] + '.png'\n",
    "    clear_img_path = os.path.join(clear_fold_path, clear_file)\n",
    "    return clear_img_path"
   ]
  },
  {
   "cell_type": "code",
   "execution_count": 5,
   "id": "9002d1e1-d62c-477a-a920-9e11d1c38510",
   "metadata": {},
   "outputs": [],
   "source": [
    "def frame_dehaze(hazy, method, atm = None):\n",
    "    start = timeit.default_timer()\n",
    "    if method == 'dcp':\n",
    "        dehaze_img = dcp_dehaze(hazy, config['dcp'], atm)\n",
    "    else:\n",
    "        dehaze_img = cap_dehaze(hazy, config['cap'])\n",
    "    \n",
    "    end = timeit.default_timer()\n",
    "    time = end - start\n",
    "    return dehaze_img, time, atm"
   ]
  },
  {
   "cell_type": "code",
   "execution_count": 6,
   "id": "94b11f36-5502-490b-9a87-e3739629ea4a",
   "metadata": {},
   "outputs": [],
   "source": [
    "# list_omgs[-1:]"
   ]
  },
  {
   "cell_type": "code",
   "execution_count": 8,
   "id": "db88fdbb-12e1-4971-a3d3-47a261e0d694",
   "metadata": {
    "tags": []
   },
   "outputs": [
    {
     "name": "stderr",
     "output_type": "stream",
     "text": [
      "  0%|                                                                        | 0/1 [00:00<?, ?it/s]"
     ]
    },
    {
     "name": "stdout",
     "output_type": "stream",
     "text": [
      "[[0.99946464 0.99946464 0.99946464]]\n",
      "[[0.99946464 0.99946464 0.99946464]]\n",
      "[[0.99946464 0.99946464 0.99946464]]\n",
      "[[0.99946464 0.99946464 0.99946464]]\n",
      "[[0.99946464 0.99946464 0.99946464]]\n",
      "[[0.99946464 0.99946464 0.99946464]]\n",
      "[[0.99946464 0.99946464 0.99946464]]\n",
      "[[0.99946464 0.99946464 0.99946464]]\n"
     ]
    },
    {
     "name": "stderr",
     "output_type": "stream",
     "text": [
      "  0%|                                                                        | 0/1 [00:06<?, ?it/s]"
     ]
    },
    {
     "name": "stdout",
     "output_type": "stream",
     "text": [
      "[[0.99946464 0.99946464 0.99946464]]\n"
     ]
    },
    {
     "name": "stderr",
     "output_type": "stream",
     "text": [
      "\n"
     ]
    },
    {
     "ename": "KeyboardInterrupt",
     "evalue": "",
     "output_type": "error",
     "traceback": [
      "\u001b[1;31m---------------------------------------------------------------------------\u001b[0m",
      "\u001b[1;31mKeyboardInterrupt\u001b[0m                         Traceback (most recent call last)",
      "\u001b[1;32m~\\AppData\\Local\\Temp/ipykernel_11176/3110725339.py\u001b[0m in \u001b[0;36m<module>\u001b[1;34m\u001b[0m\n\u001b[0;32m     23\u001b[0m                     \u001b[0mcap\u001b[0m\u001b[1;33m.\u001b[0m\u001b[0mrelease\u001b[0m\u001b[1;33m(\u001b[0m\u001b[1;33m)\u001b[0m\u001b[1;33m\u001b[0m\u001b[1;33m\u001b[0m\u001b[0m\n\u001b[0;32m     24\u001b[0m                 \u001b[1;32melse\u001b[0m\u001b[1;33m:\u001b[0m\u001b[1;33m\u001b[0m\u001b[1;33m\u001b[0m\u001b[0m\n\u001b[1;32m---> 25\u001b[1;33m                     \u001b[0mdehaze_frame\u001b[0m\u001b[1;33m,\u001b[0m \u001b[0mtime\u001b[0m\u001b[1;33m,\u001b[0m \u001b[0matm\u001b[0m \u001b[1;33m=\u001b[0m \u001b[0mframe_dehaze\u001b[0m\u001b[1;33m(\u001b[0m\u001b[0mhazy_frame\u001b[0m\u001b[1;33m,\u001b[0m \u001b[0mmethod\u001b[0m\u001b[1;33m,\u001b[0m \u001b[0matm\u001b[0m\u001b[1;33m)\u001b[0m\u001b[1;33m\u001b[0m\u001b[1;33m\u001b[0m\u001b[0m\n\u001b[0m\u001b[0;32m     26\u001b[0m                     \u001b[0mlist_time\u001b[0m\u001b[1;33m.\u001b[0m\u001b[0mappend\u001b[0m\u001b[1;33m(\u001b[0m\u001b[0mtime\u001b[0m\u001b[1;33m)\u001b[0m\u001b[1;33m\u001b[0m\u001b[1;33m\u001b[0m\u001b[0m\n\u001b[0;32m     27\u001b[0m     \u001b[1;31m#                     list_transmission.append()\u001b[0m\u001b[1;33m\u001b[0m\u001b[1;33m\u001b[0m\u001b[1;33m\u001b[0m\u001b[0m\n",
      "\u001b[1;32m~\\AppData\\Local\\Temp/ipykernel_11176/1012471422.py\u001b[0m in \u001b[0;36mframe_dehaze\u001b[1;34m(hazy, method, atm)\u001b[0m\n\u001b[0;32m      2\u001b[0m     \u001b[0mstart\u001b[0m \u001b[1;33m=\u001b[0m \u001b[0mtimeit\u001b[0m\u001b[1;33m.\u001b[0m\u001b[0mdefault_timer\u001b[0m\u001b[1;33m(\u001b[0m\u001b[1;33m)\u001b[0m\u001b[1;33m\u001b[0m\u001b[1;33m\u001b[0m\u001b[0m\n\u001b[0;32m      3\u001b[0m     \u001b[1;32mif\u001b[0m \u001b[0mmethod\u001b[0m \u001b[1;33m==\u001b[0m \u001b[1;34m'dcp'\u001b[0m\u001b[1;33m:\u001b[0m\u001b[1;33m\u001b[0m\u001b[1;33m\u001b[0m\u001b[0m\n\u001b[1;32m----> 4\u001b[1;33m         \u001b[0mdehaze_img\u001b[0m\u001b[1;33m,\u001b[0m \u001b[0matm\u001b[0m\u001b[1;33m,\u001b[0m \u001b[0mavg_trans\u001b[0m \u001b[1;33m=\u001b[0m \u001b[0mdcp_dehaze\u001b[0m\u001b[1;33m(\u001b[0m\u001b[0mhazy\u001b[0m\u001b[1;33m,\u001b[0m \u001b[0mconfig\u001b[0m\u001b[1;33m[\u001b[0m\u001b[1;34m'dcp'\u001b[0m\u001b[1;33m]\u001b[0m\u001b[1;33m,\u001b[0m \u001b[0matm\u001b[0m\u001b[1;33m)\u001b[0m\u001b[1;33m\u001b[0m\u001b[1;33m\u001b[0m\u001b[0m\n\u001b[0m\u001b[0;32m      5\u001b[0m         \u001b[0mprint\u001b[0m\u001b[1;33m(\u001b[0m\u001b[0matm\u001b[0m\u001b[1;33m)\u001b[0m\u001b[1;33m\u001b[0m\u001b[1;33m\u001b[0m\u001b[0m\n\u001b[0;32m      6\u001b[0m     \u001b[1;32melse\u001b[0m\u001b[1;33m:\u001b[0m\u001b[1;33m\u001b[0m\u001b[1;33m\u001b[0m\u001b[0m\n",
      "\u001b[1;32m~\\working\\python\\ctcm\\trait_video\\code\\dcp\\dehaze.py\u001b[0m in \u001b[0;36mdehaze\u001b[1;34m(I, config, atm)\u001b[0m\n\u001b[0;32m    111\u001b[0m     \u001b[0mt2\u001b[0m \u001b[1;33m=\u001b[0m \u001b[0mtimeit\u001b[0m\u001b[1;33m.\u001b[0m\u001b[0mdefault_timer\u001b[0m\u001b[1;33m(\u001b[0m\u001b[1;33m)\u001b[0m\u001b[1;33m\u001b[0m\u001b[1;33m\u001b[0m\u001b[0m\n\u001b[0;32m    112\u001b[0m \u001b[1;31m#     if np.all(atm==0):\u001b[0m\u001b[1;33m\u001b[0m\u001b[1;33m\u001b[0m\u001b[1;33m\u001b[0m\u001b[0m\n\u001b[1;32m--> 113\u001b[1;33m     \u001b[0matm\u001b[0m \u001b[1;33m=\u001b[0m \u001b[0mestimate_atmospheric\u001b[0m\u001b[1;33m(\u001b[0m\u001b[0mI_norm\u001b[0m\u001b[1;33m,\u001b[0m\u001b[0mdark\u001b[0m\u001b[1;33m)\u001b[0m\u001b[1;33m\u001b[0m\u001b[1;33m\u001b[0m\u001b[0m\n\u001b[0m\u001b[0;32m    114\u001b[0m     \u001b[0mt3\u001b[0m \u001b[1;33m=\u001b[0m \u001b[0mtimeit\u001b[0m\u001b[1;33m.\u001b[0m\u001b[0mdefault_timer\u001b[0m\u001b[1;33m(\u001b[0m\u001b[1;33m)\u001b[0m\u001b[1;33m\u001b[0m\u001b[1;33m\u001b[0m\u001b[0m\n\u001b[0;32m    115\u001b[0m     \u001b[0mte\u001b[0m \u001b[1;33m=\u001b[0m \u001b[0mestimate_depth_map\u001b[0m\u001b[1;33m(\u001b[0m\u001b[0mI_norm\u001b[0m\u001b[1;33m,\u001b[0m\u001b[0matm\u001b[0m\u001b[1;33m,\u001b[0m\u001b[0mconfig\u001b[0m\u001b[1;33m)\u001b[0m\u001b[1;33m\u001b[0m\u001b[1;33m\u001b[0m\u001b[0m\n",
      "\u001b[1;32m~\\working\\python\\ctcm\\trait_video\\code\\dcp\\dehaze.py\u001b[0m in \u001b[0;36mestimate_atmospheric\u001b[1;34m(im, dark)\u001b[0m\n\u001b[0;32m     37\u001b[0m     \u001b[0mimvec\u001b[0m \u001b[1;33m=\u001b[0m \u001b[0mim\u001b[0m\u001b[1;33m.\u001b[0m\u001b[0mreshape\u001b[0m\u001b[1;33m(\u001b[0m\u001b[0mimsz\u001b[0m\u001b[1;33m,\u001b[0m\u001b[1;36m3\u001b[0m\u001b[1;33m)\u001b[0m\u001b[1;33m;\u001b[0m\u001b[1;33m\u001b[0m\u001b[1;33m\u001b[0m\u001b[0m\n\u001b[0;32m     38\u001b[0m \u001b[1;33m\u001b[0m\u001b[0m\n\u001b[1;32m---> 39\u001b[1;33m     \u001b[0mindices\u001b[0m \u001b[1;33m=\u001b[0m \u001b[0mdarkvec\u001b[0m\u001b[1;33m.\u001b[0m\u001b[0margsort\u001b[0m\u001b[1;33m(\u001b[0m\u001b[1;33m)\u001b[0m\u001b[1;33m;\u001b[0m\u001b[1;33m\u001b[0m\u001b[1;33m\u001b[0m\u001b[0m\n\u001b[0m\u001b[0;32m     40\u001b[0m     \u001b[0mindices\u001b[0m \u001b[1;33m=\u001b[0m \u001b[0mindices\u001b[0m\u001b[1;33m[\u001b[0m\u001b[0mimsz\u001b[0m\u001b[1;33m-\u001b[0m\u001b[0mnumpx\u001b[0m\u001b[1;33m:\u001b[0m\u001b[1;33m:\u001b[0m\u001b[1;33m]\u001b[0m\u001b[1;33m\u001b[0m\u001b[1;33m\u001b[0m\u001b[0m\n\u001b[0;32m     41\u001b[0m \u001b[1;33m\u001b[0m\u001b[0m\n",
      "\u001b[1;31mKeyboardInterrupt\u001b[0m: "
     ]
    }
   ],
   "source": [
    "video_name = 'oto_1_10s.mp4'\n",
    "# vid_size = (600, 334)\n",
    "vid_size = (1920, 1080)\n",
    "vid_fps = 30\n",
    "list_omgs = list(np.arange(0.1 , 1.0, 0.1))\n",
    "for omg in tqdm(list_omgs[-1:]):\n",
    "    config['dcp']['omega'] = omg\n",
    "    for method in ['dcp']:\n",
    "        cap = cv2.VideoCapture(os.path.join(_VIDEO_PATH,video_name))\n",
    "        fourcc = cv2.VideoWriter_fourcc(*'XVID')\n",
    "        out_name = video_name.split('.')[0]\n",
    "        out_fold = os.path.join(_VIDEO_PATH, out_name)\n",
    "        if not os.path.isdir(out_fold):\n",
    "            os.mkdir(out_fold)\n",
    "        out = cv2.VideoWriter(os.path.join(out_fold, f'{method}_{omg:.2f}.avi'),fourcc, vid_fps, vid_size)\n",
    "        list_time = []\n",
    "        list_transmission = []\n",
    "        atm = np.zeros((1,3))\n",
    "        while(cap.isOpened()):\n",
    "            ret, hazy_frame = cap.read()\n",
    "            try:\n",
    "                if (cv2.waitKey(1)) & (0xFF == ord('q')) & (hazy_frame is None):\n",
    "                    cap.release()\n",
    "                else:\n",
    "                    dehaze_frame, time, atm = frame_dehaze(hazy_frame, method, atm)\n",
    "                    list_time.append(time)\n",
    "    #                     list_transmission.append()\n",
    "                    out.write(dehaze_frame)\n",
    "            except Exception as e:\n",
    "                cap.release()\n",
    "        out.release()"
   ]
  },
  {
   "cell_type": "markdown",
   "id": "803b729d-d143-400d-806c-5c282d1ed53c",
   "metadata": {},
   "source": [
    "### Investigate after creating video"
   ]
  },
  {
   "cell_type": "code",
   "execution_count": null,
   "id": "aebff4c5-6431-4dad-8242-176f9b8a68c1",
   "metadata": {},
   "outputs": [],
   "source": [
    "video_name = 'traffic.mp4'\n",
    "vid_size = (600, 334)\n",
    "vid_fps = 30\n",
    "# cap = cv2.VideoCapture(os.path.join(_VIDEO_PATH,video_name))\n",
    "\n",
    "for omg in tqdm(list_omgs):\n",
    "    config['dcp']['omega'] = omg\n",
    "    method = 'dcp'\n",
    "    out_name = video_name.split('.')[0]\n",
    "    out = cv2.VideoCapture(os.path.join(os.path.join(_VIDEO_PATH, out_name), f'{method}_{omg:.2f}.avi'))\n",
    "\n",
    "    list_time = []\n",
    "    while(out.isOpened()):\n",
    "        _, dehazy_frame = out.read()\n",
    "        out.release()\n",
    "    color = (0, 0, 255)\n",
    "\n",
    "#     cv2.imwrite(f'../result/traffic/{out_name}_hazy_frame.png', hazy_frame)\n",
    "#     hazy_frame_maker = cv2.rectangle(hazy_frame.copy(), (340, 290), (500,320), color, 2)\n",
    "#     cv2.imwrite(f'../result/traffic/{out_name}_hazy_frame_marker.png', hazy_frame_maker)\n",
    "#     cv2.imwrite(f'../result/traffic/{out_name}_hazy_marker.png', hazy_frame[290:320,340:500])\n",
    "    \n",
    "    cv2.imwrite(os.path.join(_VIDEO_PATH, out_name + '_analysis', f'dehazy_frame_{omg:.2f}.png'), dehazy_frame)\n",
    "    dehazy_frame_maker = cv2.rectangle(dehazy_frame.copy(), (340, 290), (500,320), color, 2)\n",
    "    cv2.imwrite(os.path.join(_VIDEO_PATH, out_name + '_analysis', f'dehazy_frame_marker_{omg:.2f}.png'), dehazy_frame_maker)\n",
    "    cv2.imwrite(os.path.join(_VIDEO_PATH, out_name + '_analysis', f'dehazy_marker_{omg:.2f}.png'), dehazy_frame[290:320,340:500])"
   ]
  },
  {
   "cell_type": "code",
   "execution_count": null,
   "id": "8a09cbbe-db8b-4273-94b4-19efabbbae4a",
   "metadata": {},
   "outputs": [],
   "source": [
    "out = cv2.VideoCapture(os.path.join(os.path.join(_VIDEO_PATH, out_name), f'{method}_{omg}.avi'))\n",
    "out.isOpened()"
   ]
  },
  {
   "cell_type": "code",
   "execution_count": null,
   "id": "a1df3249-6c3f-4f37-b60f-c94c2c77062c",
   "metadata": {},
   "outputs": [],
   "source": [
    "# hazy_frame = cv2.cvtColor(hazy_frame, cv2.COLOR_BGR2RGB)\n",
    "# cv2.imwrite(f'../result/{out_name}_hazy_frame.png', hazy_frame)\n",
    "# plt.imshow(hazy_frame)"
   ]
  },
  {
   "cell_type": "code",
   "execution_count": null,
   "id": "a60bc7b5-83ee-479b-8c14-3a736a0062a1",
   "metadata": {},
   "outputs": [],
   "source": [
    "# color = (0, 0, 255)\n",
    "# hazy_frame_maker = cv2.rectangle(hazy_frame.copy(), (75, 5), (100,30), color, 2)\n",
    "# cv2.imwrite(f'../result/{out_name}_hazy_frame_marker.png', hazy_frame_maker)\n",
    "# plt.imshow(hazy_frame_maker)"
   ]
  },
  {
   "cell_type": "code",
   "execution_count": null,
   "id": "a9ec39c9-96ed-4e95-bcca-a7915a953aa1",
   "metadata": {},
   "outputs": [],
   "source": [
    "# color = (0, 0, 255)\n",
    "# hazy_frame_maker = cv2.rectangle(hazy_frame.copy(), (340, 290), (500,320), color, 2)\n",
    "# cv2.imwrite(f'../result/{out_name}_hazy_frame_marker.png', hazy_frame_maker)\n",
    "# plt.imshow(hazy_frame_maker)\n"
   ]
  },
  {
   "cell_type": "code",
   "execution_count": null,
   "id": "55766927-0712-44e7-b6fc-f2474ed3dc10",
   "metadata": {},
   "outputs": [],
   "source": [
    "# cv2.imwrite(f'../result/{out_name}_hazy_marker.png', hazy_frame[290:320,340:500])\n",
    "# plt.imshow(hazy_frame[290:320,340:500])"
   ]
  },
  {
   "cell_type": "code",
   "execution_count": null,
   "id": "4e357fe5-2b8c-40aa-9130-42704a80deb2",
   "metadata": {},
   "outputs": [],
   "source": [
    "# cv2.imwrite(f'../result/{out_name}_hazy_marker.png', hazy_frame[5:30,75:100])\n",
    "# plt.imshow(hazy_frame[5:30,75:100])"
   ]
  },
  {
   "cell_type": "code",
   "execution_count": null,
   "id": "1c349c36-6cb0-4ce7-b9d0-e644cae47864",
   "metadata": {},
   "outputs": [],
   "source": [
    "# # dehazy_frame = cv2.cvtColor(dehazy_frame, cv2.COLOR_BGR2RGB)\n",
    "# cv2.imwrite(f'../result/{out_name}_dehazy_frame.png', dehazy_frame)\n",
    "# plt.imshow(dehazy_frame)"
   ]
  },
  {
   "cell_type": "code",
   "execution_count": null,
   "id": "e03c1886-321b-47d6-bd98-5e996ac18316",
   "metadata": {},
   "outputs": [],
   "source": [
    "# color = (0, 0, 255)\n",
    "# dehazy_frame_maker = cv2.rectangle(dehazy_frame.copy(), (340, 290), (500,320), color, 2)\n",
    "# cv2.imwrite(f'../result/{out_name}_dehazy_frame_marker.png', dehazy_frame_maker)\n",
    "# plt.imshow(dehazy_frame_maker)"
   ]
  },
  {
   "cell_type": "code",
   "execution_count": null,
   "id": "7aef9ff5-049a-4133-b325-f06549094f12",
   "metadata": {},
   "outputs": [],
   "source": [
    "# cv2.imwrite(f'../result/{out_name}_dehazy_marker.png', dehazy_frame[290:320,340:500])\n",
    "# plt.imshow(dehazy_frame[290:320,340:500])"
   ]
  }
 ],
 "metadata": {
  "kernelspec": {
   "display_name": "vision",
   "language": "python",
   "name": "vision"
  },
  "language_info": {
   "codemirror_mode": {
    "name": "ipython",
    "version": 3
   },
   "file_extension": ".py",
   "mimetype": "text/x-python",
   "name": "python",
   "nbconvert_exporter": "python",
   "pygments_lexer": "ipython3",
   "version": "3.7.11"
  }
 },
 "nbformat": 4,
 "nbformat_minor": 5
}
