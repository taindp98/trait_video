{
 "cells": [
  {
   "cell_type": "code",
   "execution_count": 1,
   "id": "c2636a1e-1048-4189-a3ed-2d62264d8515",
   "metadata": {},
   "outputs": [],
   "source": [
    "%load_ext autoreload\n",
    "%autoreload 2\n",
    "import random\n",
    "from cap.dehaze import dehaze as cap_dehaze\n",
    "from dcp.dehaze import dehaze as dcp_dehaze\n",
    "from config import config\n",
    "# from measure import compute_psnr, compute_ssim\n",
    "import os\n",
    "from glob import glob\n",
    "from matplotlib import pyplot as plt\n",
    "import cv2\n",
    "from sklearn.metrics import mean_squared_error as compute_mse\n",
    "from skimage.metrics import peak_signal_noise_ratio as compute_psnr\n",
    "from skimage.metrics import structural_similarity as compute_ssim\n",
    "from tqdm import tqdm\n",
    "import timeit\n",
    "import numpy as np"
   ]
  },
  {
   "cell_type": "code",
   "execution_count": 2,
   "id": "ccd6b00e-b06a-4a94-ba2a-d7d50f93e17f",
   "metadata": {},
   "outputs": [],
   "source": [
    "_RESIDE_PATH = 'D:\\\\data\\\\reside\\\\indoor_train'\n",
    "_RESULT_PATH = '../result'"
   ]
  },
  {
   "cell_type": "code",
   "execution_count": 3,
   "id": "3b0fb510-cc54-45f0-abcc-326a22bc17fd",
   "metadata": {},
   "outputs": [],
   "source": [
    "hazy_fold_path = os.path.join(_RESIDE_PATH,'hazy')\n",
    "clear_fold_path = os.path.join(_RESIDE_PATH,'clear')"
   ]
  },
  {
   "cell_type": "code",
   "execution_count": 4,
   "id": "b9f57d8d-96c7-4904-856f-82c71efb890f",
   "metadata": {},
   "outputs": [],
   "source": [
    "def get_clear(hazy_img_path, clear_fold_path):\n",
    "    hazy_img_path = hazy_img_path.replace('\\\\', '/')\n",
    "    clear_file = hazy_img_path.split('/')[-1].split('_')[0] + '.png'\n",
    "    clear_img_path = os.path.join(clear_fold_path, clear_file)\n",
    "    return clear_img_path"
   ]
  },
  {
   "cell_type": "code",
   "execution_count": 5,
   "id": "2805b900-3407-4862-886d-6ebbc09d9b00",
   "metadata": {},
   "outputs": [],
   "source": [
    "def show_compaire(hazy, clear, result_path, save = False):\n",
    "    \"\"\"\n",
    "    all is the files\n",
    "    \"\"\"\n",
    "    hazy_img = cv2.imread(hazy)\n",
    "    clear_img = cv2.imread(clear)\n",
    "    \n",
    "    dehaze_1 = dcp_dehaze(hazy, config['dcp'])\n",
    "    dehaze_2 = cap_dehaze(hazy, config['cap'])\n",
    "    \n",
    "    psnr_1 = compute_psnr(clear_img, dehaze_1)\n",
    "    psnr_2 = compute_psnr(clear_img, dehaze_2)\n",
    "    \n",
    "    ssim_1 = compute_ssim(clear_img, dehaze_1 , multichannel=True)\n",
    "    ssim_2 = compute_ssim(clear_img, dehaze_2 , multichannel=True)\n",
    "    \n",
    "    mse_1 = compute_mse(clear_img.flatten(), dehaze_1.flatten())\n",
    "    mse_2 = compute_mse(clear_img.flatten(), dehaze_2.flatten())\n",
    "    \n",
    "    fig = plt.figure(figsize=(30, 30), dpi=80)\n",
    "    ax1 = fig.add_subplot(1,4,1)\n",
    "    ax1.imshow(hazy_img)\n",
    "    plt.axis('off')\n",
    "    ax1.set_title('Hazy Image')\n",
    "    ax2 = fig.add_subplot(1,4,2)\n",
    "    ax2.imshow(dehaze_1)\n",
    "    plt.axis('off')\n",
    "    ax2.set_title(f'DCP - PSNR: {psnr_1:.3f} - SSIM: {ssim_1:.3f} - MSE: {mse_1:.3f}')\n",
    "\n",
    "    ax3 = fig.add_subplot(1,4,3)\n",
    "    ax3.imshow(dehaze_2)\n",
    "    plt.axis('off')\n",
    "    ax3.set_title(f'CAP - PSNR: {psnr_2:.3f} - SSIM: {ssim_2:.3f} - MSE: {mse_2:.3f}')\n",
    "\n",
    "    ax4 = fig.add_subplot(1,4,4)\n",
    "    ax4.imshow(clear_img)\n",
    "    plt.axis('off')\n",
    "    ax4.set_title('Clear Image')\n",
    "    \n",
    "    if save:  \n",
    "        case_name = clear.replace('\\\\','/').split('/')[-1].replace('.png','')\n",
    "        fig.savefig(os.path.join(result_path,case_name+'.png'))\n",
    "        plt.close(fig) \n",
    "    plt.show()"
   ]
  },
  {
   "cell_type": "code",
   "execution_count": 17,
   "id": "9002d1e1-d62c-477a-a920-9e11d1c38510",
   "metadata": {},
   "outputs": [],
   "source": [
    "def evaluation(hazy, clear_img, method):\n",
    "    start = timeit.default_timer()\n",
    "    if method == 'dcp':\n",
    "        dehaze_img, t = dcp_dehaze(hazy, config['dcp'])\n",
    "        print(t)\n",
    "    else:\n",
    "        dehaze_img = cap_dehaze(hazy, config['cap'])\n",
    "    \n",
    "    psnr = compute_psnr(clear_img, dehaze_img)\n",
    "    ssim = compute_ssim(clear_img, dehaze_img, multichannel=True)\n",
    "    mse = compute_mse(clear_img.flatten(), dehaze_img.flatten())\n",
    "    end = timeit.default_timer()\n",
    "    time_consume = end - start\n",
    "    size = clear_img.shape[:2]\n",
    "    return psnr, ssim, mse, time_consume, size"
   ]
  },
  {
   "cell_type": "code",
   "execution_count": 18,
   "id": "8777d523-6a7d-4719-8c8a-a5521be1d3b9",
   "metadata": {},
   "outputs": [],
   "source": [
    "# cv2.imread('D:\\\\data\\\\reside\\\\indoor_train\\\\hazy\\\\942_9_0.74081.png').shape[:1]"
   ]
  },
  {
   "cell_type": "code",
   "execution_count": 19,
   "id": "0a50faa7-880a-4d7e-8639-04121b9331c1",
   "metadata": {},
   "outputs": [],
   "source": [
    "list_hazy_imgs = glob(os.path.join(hazy_fold_path, '*.png'))\n",
    "random.shuffle(list_hazy_imgs)\n",
    "# list_hazy_imgs[:10]"
   ]
  },
  {
   "cell_type": "code",
   "execution_count": 21,
   "id": "db88fdbb-12e1-4971-a3d3-47a261e0d694",
   "metadata": {},
   "outputs": [
    {
     "name": "stderr",
     "output_type": "stream",
     "text": [
      " 50%|████████████████████████████████                                | 1/2 [00:00<00:00,  1.33it/s]"
     ]
    },
    {
     "name": "stdout",
     "output_type": "stream",
     "text": [
      "0.535045282335997\n"
     ]
    },
    {
     "name": "stderr",
     "output_type": "stream",
     "text": [
      "100%|████████████████████████████████████████████████████████████████| 2/2 [00:01<00:00,  1.99it/s]"
     ]
    },
    {
     "name": "stdout",
     "output_type": "stream",
     "text": [
      "0.45692731239049633\n"
     ]
    },
    {
     "name": "stderr",
     "output_type": "stream",
     "text": [
      "\n"
     ]
    }
   ],
   "source": [
    "list_psnr = []\n",
    "list_ssim = []\n",
    "list_mse = []\n",
    "list_time = []\n",
    "list_size = []\n",
    "for i in tqdm(range(len(list_hazy_imgs[:2]))):\n",
    "    hazy_img = cv2.imread(list_hazy_imgs[i])\n",
    "    clear = get_clear(list_hazy_imgs[i], clear_fold_path)\n",
    "    clear_img = cv2.imread(clear)\n",
    "    psnr, ssim, mse, time, size = evaluation(hazy_img, clear_img, method = 'dcp')\n",
    "    list_psnr.append(psnr)\n",
    "    list_ssim.append(ssim)\n",
    "    list_mse.append(mse)\n",
    "    list_time.append(time)\n",
    "    list_size.append(size)"
   ]
  },
  {
   "cell_type": "code",
   "execution_count": 11,
   "id": "a49ec67f-80a3-4c8c-9f26-72b5a464999f",
   "metadata": {},
   "outputs": [],
   "source": [
    "# clear_img"
   ]
  },
  {
   "cell_type": "code",
   "execution_count": null,
   "id": "9a15568f-57f1-41ea-8f9d-ec1035d88d54",
   "metadata": {},
   "outputs": [],
   "source": [
    "np.mean(list_psnr), np.mean(list_ssim), np.mean(list_mse), np.mean(list_time), np.mean(np.array(list_size),axis=0)"
   ]
  },
  {
   "cell_type": "code",
   "execution_count": null,
   "id": "a1c17735-3fc4-422a-a8df-6f2ef66595c9",
   "metadata": {},
   "outputs": [],
   "source": [
    "list_psnr = []\n",
    "list_ssim = []\n",
    "list_mse = []\n",
    "list_time = []\n",
    "list_size = []\n",
    "for i in tqdm(range(len(list_hazy_imgs))):\n",
    "    hazy = list_hazy_imgs[i]\n",
    "    clear = get_clear(hazy, clear_fold_path)\n",
    "    psnr, ssim, mse, time, size = evaluation(hazy, method = 'cap')\n",
    "    list_psnr.append(psnr)\n",
    "    list_ssim.append(ssim)\n",
    "    list_mse.append(mse)\n",
    "    list_time.append(time)\n",
    "    list_size.append(size)"
   ]
  },
  {
   "cell_type": "code",
   "execution_count": null,
   "id": "dcd388e5-87e2-4c2f-89c9-06ffd410a842",
   "metadata": {},
   "outputs": [],
   "source": [
    "np.mean(list_psnr), np.mean(list_ssim), np.mean(list_mse), np.mean(list_time), np.mean(np.array(list_size),axis=0)"
   ]
  },
  {
   "cell_type": "code",
   "execution_count": null,
   "id": "c0a8d91f-8669-423b-b3e7-cbebea7c2217",
   "metadata": {},
   "outputs": [],
   "source": [
    "# for i in range(1,5):\n",
    "#     list_hazy_imgs = glob(os.path.join(hazy_fold_path, f'{i}*.png'))\n",
    "#     hazy = list_hazy_imgs[0]\n",
    "#     clear = get_clear(hazy, clear_fold_path)\n",
    "#     show_compaire(hazy, clear, _RESULT_PATH)\n",
    "# #     plt.show()"
   ]
  }
 ],
 "metadata": {
  "kernelspec": {
   "display_name": "vision",
   "language": "python",
   "name": "vision"
  },
  "language_info": {
   "codemirror_mode": {
    "name": "ipython",
    "version": 3
   },
   "file_extension": ".py",
   "mimetype": "text/x-python",
   "name": "python",
   "nbconvert_exporter": "python",
   "pygments_lexer": "ipython3",
   "version": "3.7.11"
  }
 },
 "nbformat": 4,
 "nbformat_minor": 5
}
