{
 "cells": [
  {
   "cell_type": "code",
   "execution_count": 1,
   "id": "17e9969e-3949-4ccb-a6b3-8de8a2b99211",
   "metadata": {},
   "outputs": [],
   "source": [
    "import cv2;\n",
    "import math;\n",
    "import numpy as np;\n",
    "from matplotlib import pyplot as plt\n",
    "# from config import config"
   ]
  },
  {
   "cell_type": "code",
   "execution_count": 2,
   "id": "2eb291a9-2880-4d30-9c26-8a8ceda0e041",
   "metadata": {},
   "outputs": [],
   "source": [
    "def extract_dark_channel(im,config):\n",
    "    \"\"\"\n",
    "    extract depth map\n",
    "    \"\"\"\n",
    "    b,g,r = cv2.split(im)\n",
    "    dc = cv2.min(cv2.min(r,g),b);\n",
    "    kernel = cv2.getStructuringElement(cv2.MORPH_RECT,(config['sz'],config['sz']))\n",
    "    dark = cv2.erode(dc,kernel)\n",
    "    return dark\n",
    "\n",
    "def estimate_atmospheric(im,dark):\n",
    "    \"\"\"\n",
    "    estimate atmospheric\n",
    "    \"\"\"\n",
    "    [h,w] = im.shape[:2]\n",
    "    imsz = h*w\n",
    "    numpx = int(max(math.floor(imsz/1000),1))\n",
    "    darkvec = dark.reshape(imsz);\n",
    "    imvec = im.reshape(imsz,3);\n",
    "\n",
    "    indices = darkvec.argsort();\n",
    "    indices = indices[imsz-numpx::]\n",
    "\n",
    "    atmsum = np.zeros([1,3])\n",
    "    for ind in range(1,numpx):\n",
    "        atmsum = atmsum + imvec[indices[ind]]\n",
    "\n",
    "    A = atmsum / numpx;\n",
    "    return A\n",
    "\n",
    "def estimate_depth_map(im,A,config):\n",
    "    \"\"\"\n",
    "    estimate depth map\n",
    "    \"\"\"\n",
    "#     omega = 0.85;\n",
    "    im3 = np.empty(im.shape,im.dtype);\n",
    "\n",
    "    for ind in range(0,3):\n",
    "        im3[:,:,ind] = im[:,:,ind]/A[0,ind]\n",
    "\n",
    "    transmission = 1 - config['omega']*extract_dark_channel(im3,config);\n",
    "    return transmission\n",
    "\n",
    "def Guidedfilter(im,et,config):\n",
    "    mean_I = cv2.boxFilter(im,cv2.CV_64F,(config['r'],config['r']));\n",
    "    mean_p = cv2.boxFilter(et, cv2.CV_64F,(config['r'],config['r']));\n",
    "    mean_Ip = cv2.boxFilter(im*et,cv2.CV_64F,(config['r'],config['r']));\n",
    "    cov_Ip = mean_Ip - mean_I*mean_p;\n",
    "\n",
    "    mean_II = cv2.boxFilter(im*im,cv2.CV_64F,(config['r'],config['r']));\n",
    "    var_I   = mean_II - mean_I*mean_I;\n",
    "\n",
    "    a = cov_Ip/(var_I + config['eps']);\n",
    "    b = mean_p - a*mean_I;\n",
    "\n",
    "    mean_a = cv2.boxFilter(a,cv2.CV_64F,(config['r'],config['r']));\n",
    "    mean_b = cv2.boxFilter(b,cv2.CV_64F,(config['r'],config['r']));\n",
    "\n",
    "    q = mean_a*im + mean_b;\n",
    "    return q;\n",
    "\n",
    "def refine_depth_map(img_path,et, config):\n",
    "    img = cv2.imread(img_path)\n",
    "    gray = cv2.cvtColor(img,cv2.COLOR_BGR2GRAY);\n",
    "    gray = np.float64(gray)/255;\n",
    "    t = Guidedfilter(gray,et,config);\n",
    "\n",
    "    return t;\n",
    "\n",
    "def recover(im,t,A,config):\n",
    "    res = np.empty(im.shape,im.dtype);\n",
    "    t = cv2.max(t,config['tx']);\n",
    "\n",
    "    for ind in range(0,3):\n",
    "        res[:,:,ind] = (im[:,:,ind]-A[0,ind])/t + A[0,ind]\n",
    "\n",
    "    return res\n",
    "    "
   ]
  },
  {
   "cell_type": "code",
   "execution_count": 3,
   "id": "809da87e-6594-4dca-afc7-f603d5663aa7",
   "metadata": {},
   "outputs": [],
   "source": [
    "def dehaze(img_path, config):\n",
    "    I = cv2.imread(img_path);\n",
    "    I = I/255.;\n",
    "    dark = extract_dark_channel(I,config);\n",
    "    A = estimate_atmospheric(I,dark);\n",
    "    te = estimate_depth_map(I,A,config);\n",
    "    t = refine_depth_map(img_path,te, config);\n",
    "    J = recover(I,t,A,config)*255\n",
    "    J = J.astype(int)\n",
    "    return J"
   ]
  },
  {
   "cell_type": "code",
   "execution_count": 4,
   "id": "cf12dfdc-e3d2-4f10-9705-a38472374ac4",
   "metadata": {},
   "outputs": [
    {
     "name": "stderr",
     "output_type": "stream",
     "text": [
      "[NbConvertApp] Converting notebook dehaze.ipynb to script\n",
      "[NbConvertApp] Writing 2664 bytes to dehaze.py\n"
     ]
    }
   ],
   "source": [
    "!jupyter nbconvert --to script dehaze.ipynb"
   ]
  }
 ],
 "metadata": {
  "kernelspec": {
   "display_name": "vision",
   "language": "python",
   "name": "vision"
  },
  "language_info": {
   "codemirror_mode": {
    "name": "ipython",
    "version": 3
   },
   "file_extension": ".py",
   "mimetype": "text/x-python",
   "name": "python",
   "nbconvert_exporter": "python",
   "pygments_lexer": "ipython3",
   "version": "3.7.11"
  }
 },
 "nbformat": 4,
 "nbformat_minor": 5
}
