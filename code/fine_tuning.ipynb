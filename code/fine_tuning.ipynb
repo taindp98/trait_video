{
 "cells": [
  {
   "cell_type": "code",
   "execution_count": 10,
   "id": "c2636a1e-1048-4189-a3ed-2d62264d8515",
   "metadata": {},
   "outputs": [
    {
     "name": "stdout",
     "output_type": "stream",
     "text": [
      "The autoreload extension is already loaded. To reload it, use:\n",
      "  %reload_ext autoreload\n"
     ]
    }
   ],
   "source": [
    "%load_ext autoreload\n",
    "%autoreload 2\n",
    "\n",
    "from cap.dehaze import dehaze as cap_dehaze\n",
    "from dcp.dehaze import dehaze as dcp_dehaze\n",
    "from config import config\n",
    "from measure import compute_psnr, compute_ssim\n",
    "import os\n",
    "from glob import glob\n",
    "from matplotlib import pyplot as plt\n",
    "import cv2\n",
    "import numpy as np\n",
    "# from fastprogress.fastprogress import master_bar, progress_bar\n",
    "import multiprocessing as mp\n",
    "from tqdm import tqdm"
   ]
  },
  {
   "cell_type": "code",
   "execution_count": 2,
   "id": "ccd6b00e-b06a-4a94-ba2a-d7d50f93e17f",
   "metadata": {},
   "outputs": [],
   "source": [
    "_RESIDE_PATH = 'D:\\\\data\\\\reside\\\\indoor_train'\n",
    "_RESULT_PATH = '../result'"
   ]
  },
  {
   "cell_type": "code",
   "execution_count": 3,
   "id": "3b0fb510-cc54-45f0-abcc-326a22bc17fd",
   "metadata": {},
   "outputs": [],
   "source": [
    "hazy_fold_path = os.path.join(_RESIDE_PATH,'hazy')\n",
    "clear_fold_path = os.path.join(_RESIDE_PATH,'clear')"
   ]
  },
  {
   "cell_type": "code",
   "execution_count": 4,
   "id": "b9f57d8d-96c7-4904-856f-82c71efb890f",
   "metadata": {},
   "outputs": [],
   "source": [
    "def get_clear(hazy_img_path, clear_fold_path):\n",
    "    hazy_img_path = hazy_img_path.replace('\\\\', '/')\n",
    "    clear_file = hazy_img_path.split('/')[-1].split('_')[0] + '.png'\n",
    "    clear_img_path = os.path.join(clear_fold_path, clear_file)\n",
    "    return clear_img_path"
   ]
  },
  {
   "cell_type": "code",
   "execution_count": 5,
   "id": "6ebe4a11-68be-4308-8aad-e42d0122532c",
   "metadata": {},
   "outputs": [],
   "source": [
    "list_hazy_imgs = glob(os.path.join(hazy_fold_path, '*.png'))"
   ]
  },
  {
   "cell_type": "code",
   "execution_count": 6,
   "id": "138d9d38-fc91-4a16-87fe-4cee18dc5e23",
   "metadata": {},
   "outputs": [],
   "source": [
    "list_omegas = list(np.arange(0.1, 1.0, 0.05))"
   ]
  },
  {
   "cell_type": "code",
   "execution_count": 7,
   "id": "19612fc7-60fc-4c01-b57d-82a61e376c7b",
   "metadata": {},
   "outputs": [],
   "source": [
    "def pipeline_finetune(hazy):\n",
    "    clear = get_clear(hazy, clear_fold_path)\n",
    "    clear_img = cv2.imread(clear)\n",
    "    dehaze_img = dcp_dehaze(hazy, config['dcp'])\n",
    "    psnr = compute_psnr(clear_img, dehaze_img)\n",
    "    ssim = compute_ssim(clear_img, dehaze_img)\n",
    "    return psnr, ssim"
   ]
  },
  {
   "cell_type": "code",
   "execution_count": 8,
   "id": "590f4fa1-6b8c-4619-9b21-813a395e447a",
   "metadata": {},
   "outputs": [],
   "source": [
    "pool = mp.Pool(4)"
   ]
  },
  {
   "cell_type": "code",
   "execution_count": null,
   "id": "c0a8d91f-8669-423b-b3e7-cbebea7c2217",
   "metadata": {},
   "outputs": [
    {
     "name": "stderr",
     "output_type": "stream",
     "text": [
      "  0%|                                                                    | 0/13990 [00:00<?, ?it/s]"
     ]
    }
   ],
   "source": [
    "list_psnr = []\n",
    "list_ssim = []\n",
    "for omg in list_omegas:\n",
    "    config['dcp']['omega'] = omg\n",
    "    psnrs = []\n",
    "    ssims = []\n",
    "    for (psnr, ssim) in tqdm(pool.imap_unordered(pipeline_finetune,list_hazy_imgs), total = len(list_hazy_imgs)):\n",
    "        list_psnr.append(np.mean(psnr))\n",
    "        list_ssim.append(np.mean(ssim))"
   ]
  }
 ],
 "metadata": {
  "kernelspec": {
   "display_name": "vision",
   "language": "python",
   "name": "vision"
  },
  "language_info": {
   "codemirror_mode": {
    "name": "ipython",
    "version": 3
   },
   "file_extension": ".py",
   "mimetype": "text/x-python",
   "name": "python",
   "nbconvert_exporter": "python",
   "pygments_lexer": "ipython3",
   "version": "3.7.11"
  }
 },
 "nbformat": 4,
 "nbformat_minor": 5
}
