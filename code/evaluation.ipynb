{
 "cells": [
  {
   "cell_type": "markdown",
   "id": "3ed9c842-786b-48c5-8dd9-0fec765358b6",
   "metadata": {},
   "source": [
    "# Notebook: Evaluation"
   ]
  },
  {
   "cell_type": "code",
   "execution_count": 1,
   "id": "c2636a1e-1048-4189-a3ed-2d62264d8515",
   "metadata": {},
   "outputs": [],
   "source": [
    "%load_ext autoreload\n",
    "%autoreload 2\n",
    "import random\n",
    "from cap.dehaze import dehaze as cap_dehaze_img\n",
    "from dcp.dehaze import dehaze as dcp_dehaze_img\n",
    "from cap.dehaze import dehaze_video as cap_dehaze_vid\n",
    "from dcp.dehaze import dehaze_video as dcp_dehaze_vid\n",
    "from config import config\n",
    "import os\n",
    "from glob import glob\n",
    "from matplotlib import pyplot as plt\n",
    "import cv2\n",
    "from sklearn.metrics import mean_squared_error as compute_mse\n",
    "from skimage.metrics import peak_signal_noise_ratio as compute_psnr\n",
    "from skimage.metrics import structural_similarity as compute_ssim\n",
    "from tqdm import tqdm\n",
    "import timeit\n",
    "import numpy as np\n",
    "import skvideo\n",
    "import skvideo.io\n",
    "import skvideo.measure\n",
    "\n",
    "import sys\n",
    "if not '..'  in sys.path:\n",
    "    sys.path.append('..')\n",
    "if not '../package' in sys.path:\n",
    "    sys.path.append('../package')\n",
    "if not './gen_fog' in sys.path:\n",
    "    sys.path.append('./gen_fog')\n",
    "from blind_feature import brisque_features"
   ]
  },
  {
   "cell_type": "code",
   "execution_count": 2,
   "id": "ccd6b00e-b06a-4a94-ba2a-d7d50f93e17f",
   "metadata": {},
   "outputs": [],
   "source": [
    "_NYU_PATH = 'D:\\\\data\\\\dehaze\\\\nyu\\\\bedroom_0131'\n",
    "_RESIDE_PATH = 'D:\\\\data\\\\reside\\\\indoor_train'\n",
    "_REVIDE_PATH = 'D:\\\\data\\\\dehaze\\\\REVIDE_inside\\\\Train\\\\gt\\\\E001_2'\n",
    "_RESULT_PATH = '../result'\n",
    "_VIDEO_PATH = 'D:\\\\data\\\\dehaze'"
   ]
  },
  {
   "cell_type": "code",
   "execution_count": 3,
   "id": "9002d1e1-d62c-477a-a920-9e11d1c38510",
   "metadata": {},
   "outputs": [],
   "source": [
    "def evaluation(hazy, method):\n",
    "    \"\"\"\n",
    "    evaluation the single image dehazing on RESIDE dataset\n",
    "    param:\n",
    "        hazy: is the hazy image path\n",
    "        method: is the dehazing method\n",
    "    return:\n",
    "        psnr: is the peak-signal to noise rate\n",
    "        ssim: similarity structure\n",
    "        mse: mean square error\n",
    "        time: processing time\n",
    "        size: image size\n",
    "    \"\"\"\n",
    "    hazy_img = cv2.imread(hazy)\n",
    "    img_id = hazy.split('\\\\')[-1].split('_')[0]\n",
    "    clear = hazy.replace('hazy','clear')\n",
    "    clear_ele = clear.split('\\\\')\n",
    "    clear_ele[-1] = img_id + '.png'\n",
    "    clear = '\\\\'.join(clear_ele)\n",
    "    clear_img = cv2.imread(clear)\n",
    "    \n",
    "    start = timeit.default_timer()\n",
    "    if method == 'dcp':\n",
    "        dehaze_img = dcp_dehaze_img(hazy_img, config['dcp'])\n",
    "    else:\n",
    "        dehaze_img = cap_dehaze_img(hazy_img, config['cap'])\n",
    "    \n",
    "    psnr = compute_psnr(clear_img, dehaze_img)\n",
    "    ssim = compute_ssim(clear_img, dehaze_img, multichannel=True)\n",
    "    mse = compute_mse(clear_img.flatten(), dehaze_img.flatten())\n",
    "    end = timeit.default_timer()\n",
    "    time = end - start\n",
    "    size = clear_img.shape[:2]\n",
    "    return psnr, ssim, mse, time, size"
   ]
  },
  {
   "cell_type": "code",
   "execution_count": 4,
   "id": "db88fdbb-12e1-4971-a3d3-47a261e0d694",
   "metadata": {},
   "outputs": [
    {
     "name": "stderr",
     "output_type": "stream",
     "text": [
      "100%|████████████████████████████████████████████████████████████| 500/500 [02:31<00:00,  3.29it/s]\n"
     ]
    }
   ],
   "source": [
    "hazy_fold_path = os.path.join(_RESIDE_PATH,'hazy')\n",
    "list_hazy_imgs = glob(os.path.join(hazy_fold_path, '*.png'))\n",
    "random.shuffle(list_hazy_imgs)\n",
    "\n",
    "list_psnr = []\n",
    "list_ssim = []\n",
    "list_mse = []\n",
    "list_time = []\n",
    "list_size = []\n",
    "for hazy in tqdm(list_hazy_imgs[:500]):\n",
    "    psnr, ssim, mse, time, size = evaluation(hazy, method = 'dcp')\n",
    "    list_psnr.append(psnr)\n",
    "    list_ssim.append(ssim)\n",
    "    list_mse.append(mse)\n",
    "    list_time.append(time)\n",
    "    list_size.append(size)"
   ]
  },
  {
   "cell_type": "code",
   "execution_count": 5,
   "id": "3c1c58fc-97f8-4162-82c9-85978c275842",
   "metadata": {},
   "outputs": [
    {
     "ename": "SyntaxError",
     "evalue": "'break' outside loop (Temp/ipykernel_15236/668683560.py, line 4)",
     "output_type": "error",
     "traceback": [
      "\u001b[1;36m  File \u001b[1;32m\"C:\\Users\\Admin\\AppData\\Local\\Temp/ipykernel_15236/668683560.py\"\u001b[1;36m, line \u001b[1;32m4\u001b[0m\n\u001b[1;31mSyntaxError\u001b[0m\u001b[1;31m:\u001b[0m 'break' outside loop\n"
     ]
    }
   ],
   "source": [
    "break"
   ]
  },
  {
   "cell_type": "code",
   "execution_count": null,
   "id": "255eb8c5-ec71-4bf6-b5f4-3385683a3df4",
   "metadata": {},
   "outputs": [],
   "source": [
    "np.mean(list_psnr), np.mean(list_ssim), np.mean(list_mse), np.mean(list_time), np.mean(np.array(list_size),axis=0)"
   ]
  },
  {
   "cell_type": "markdown",
   "id": "c8436c4a-4019-4994-acd6-8982d763ccd0",
   "metadata": {},
   "source": [
    "### Haze Removal on Video"
   ]
  },
  {
   "cell_type": "code",
   "execution_count": null,
   "id": "6c58a52e-7d34-4366-a9f9-63c897c7ffaf",
   "metadata": {},
   "outputs": [],
   "source": [
    "ref_vid = skvideo.io.vread(os.path.join(_VIDEO_PATH,_NYU_PATH.split('\\\\')[-1], 'original.avi'))\n",
    "haz_vid = skvideo.io.vread(os.path.join(_VIDEO_PATH,_NYU_PATH.split('\\\\')[-1], 'hazy.avi'))\n",
    "dis_cap_vid = skvideo.io.vread(os.path.join(_VIDEO_PATH,_NYU_PATH.split('\\\\')[-1],'dehazy', 'cap.avi'))\n",
    "dis_dcp_vid = skvideo.io.vread(os.path.join(_VIDEO_PATH,_NYU_PATH.split('\\\\')[-1],'dehazy', 'dcp.avi'))\n",
    "dis_cap_atm_vid = skvideo.io.vread(os.path.join(_VIDEO_PATH,_NYU_PATH.split('\\\\')[-1],'dehazy', 'cap_gatm.avi'))\n",
    "dis_dcp_atm_vid = skvideo.io.vread(os.path.join(_VIDEO_PATH,_NYU_PATH.split('\\\\')[-1],'dehazy', 'dcp_gatm.avi'))"
   ]
  },
  {
   "cell_type": "code",
   "execution_count": null,
   "id": "41e153ec-aecf-4199-9786-c83a43d90c6b",
   "metadata": {},
   "outputs": [],
   "source": [
    "def convert_gray(rgb):\n",
    "    \"\"\"\n",
    "    convert video from RGB color space to gray scale\n",
    "    param:\n",
    "        rgb: is the video array in RGB color space\n",
    "    return:\n",
    "        video in gray scale\n",
    "    \"\"\"\n",
    "    r, g, b = rgb[:,:,:,0], rgb[:,:,:,1], rgb[:,:,:,2]\n",
    "    gray = 0.2989 * r + 0.5870 * g + 0.1140 * b\n",
    "    return np.expand_dims(gray.astype(np.uint8), -1)\n",
    "\n",
    "def convert_luminance(rgb):\n",
    "    \"\"\"\n",
    "    convert video from RGB color space to Y channel\n",
    "    param:\n",
    "        rgb: is the video array in RGB color space\n",
    "    return:\n",
    "        video in luminance\n",
    "    \"\"\"\n",
    "    r, g, b = rgb[:,:,:,0], rgb[:,:,:,1], rgb[:,:,:,2]\n",
    "    Y = 0.2126 * r + 0.7152 * g + 0.0722 * b\n",
    "    return np.expand_dims(Y.astype(np.uint8), -1)\n",
    "\n",
    "def ssim(ref_vid, dis_vid):\n",
    "    \"\"\"\n",
    "    calculate ssim metric on video\n",
    "    param:\n",
    "        ref_vid: reference video\n",
    "        dis_vid: distortion video\n",
    "    return:\n",
    "        ssim_scores: ssim scores\n",
    "    \"\"\"\n",
    "    T, M, N, C = ref_vid.shape\n",
    "    ssim_scores = np.zeros(T, dtype=np.float32)\n",
    "    for i in range(T):\n",
    "        ref_frame = ref_vid[i,:,:,0]\n",
    "        dis_frame = dis_vid[i,:,:,0]\n",
    "        ssim_score = compute_ssim(ref_frame, dis_frame)\n",
    "        ssim_scores[i] = ssim_score\n",
    "    return ssim_scores"
   ]
  },
  {
   "cell_type": "code",
   "execution_count": null,
   "id": "3b92420f-8e4e-438e-8516-9fad7af22ff7",
   "metadata": {},
   "outputs": [],
   "source": [
    "ref_vid_gray = convert_gray(ref_vid)\n",
    "haz_vid_gray = convert_gray(haz_vid)\n",
    "dis_cap_vid_gray = convert_gray(dis_cap_vid)\n",
    "dis_dcp_vid_gray = convert_gray(dis_dcp_vid)\n",
    "dis_cap_atm_vid_gray = convert_gray(dis_cap_atm_vid)\n",
    "dis_dcp_atm_vid_gray = convert_gray(dis_dcp_atm_vid)"
   ]
  },
  {
   "cell_type": "code",
   "execution_count": null,
   "id": "0bf0add3-0e40-4df4-8008-a7c4f8eb4d01",
   "metadata": {},
   "outputs": [],
   "source": [
    "scores_1 = skvideo.measure.psnr(ref_vid_gray, haz_vid_gray)\n",
    "scores_2 = skvideo.measure.psnr(ref_vid_gray, dis_cap_vid_gray)\n",
    "scores_3 = skvideo.measure.psnr(ref_vid_gray, dis_dcp_vid_gray)\n",
    "scores_4 = skvideo.measure.psnr(ref_vid_gray, dis_cap_atm_vid_gray)\n",
    "scores_5 = skvideo.measure.psnr(ref_vid_gray, dis_dcp_atm_vid_gray)\n",
    "\n",
    "plt.figure(figsize=(10, 8), dpi=80)\n",
    "plt.plot(range(len(scores_1)),scores_1)\n",
    "plt.plot(range(len(scores_2)),scores_2)\n",
    "plt.plot(range(len(scores_3)),scores_3)\n",
    "plt.plot(range(len(scores_4)),scores_4)\n",
    "plt.plot(range(len(scores_5)),scores_5)\n",
    "\n",
    "plt.legend(['Original-Hazy','Original-CAP', 'Original-DCP', 'Original-CAP-AT', 'Original-DCP-AT'], loc='upper left')\n",
    "plt.xlabel('Frames Index')\n",
    "plt.ylabel('PSNR Score')\n",
    "plt.grid()\n",
    "# plt.savefig('../result/vqs_psnr.png')\n",
    "plt.show()"
   ]
  },
  {
   "cell_type": "code",
   "execution_count": null,
   "id": "048c8902-975c-4107-8212-40ca42cdd610",
   "metadata": {},
   "outputs": [],
   "source": [
    "scores_1 = skvideo.measure.mse(ref_vid_gray, haz_vid_gray)\n",
    "scores_2 = skvideo.measure.mse(ref_vid_gray, dis_cap_vid_gray)\n",
    "scores_3 = skvideo.measure.mse(ref_vid_gray, dis_dcp_vid_gray)\n",
    "scores_4 = skvideo.measure.mse(ref_vid_gray, dis_cap_atm_vid_gray)\n",
    "scores_5 = skvideo.measure.mse(ref_vid_gray, dis_dcp_atm_vid_gray)\n",
    "\n",
    "plt.figure(figsize=(10, 8), dpi=80)\n",
    "plt.plot(range(len(scores_1)),scores_1)\n",
    "plt.plot(range(len(scores_2)),scores_2)\n",
    "plt.plot(range(len(scores_3)),scores_3)\n",
    "plt.plot(range(len(scores_4)),scores_4)\n",
    "plt.plot(range(len(scores_5)),scores_5)\n",
    "\n",
    "plt.legend(['Original-Hazy','Original-CAP', 'Original-DCP', 'Original-CAP-AT', 'Original-DCP-AT'], loc='upper right')\n",
    "plt.xlabel('Frames Index')\n",
    "plt.ylabel('MSE rate')\n",
    "plt.grid()\n",
    "# plt.savefig('../result/vqs_mse.png')\n",
    "plt.show()"
   ]
  },
  {
   "cell_type": "code",
   "execution_count": null,
   "id": "398f4360-c579-4d5b-a5ea-e45434508e1c",
   "metadata": {},
   "outputs": [],
   "source": [
    "ref_vid_y = convert_luminance(ref_vid)\n",
    "haz_vid_y = convert_luminance(haz_vid)\n",
    "dis_cap_vid_y = convert_luminance(dis_cap_vid)\n",
    "dis_dcp_vid_y = convert_luminance(dis_dcp_vid)\n",
    "dis_cap_atm_vid_y = convert_luminance(dis_cap_atm_vid)\n",
    "dis_dcp_atm_vid_y = convert_luminance(dis_dcp_atm_vid)\n",
    "\n",
    "scores_1 = ssim(ref_vid_y, haz_vid_y)\n",
    "scores_2 = ssim(ref_vid_y, dis_cap_vid_y)\n",
    "scores_3 = ssim(ref_vid_y, dis_dcp_vid_y)\n",
    "scores_4 = ssim(ref_vid_y, dis_cap_atm_vid_y)\n",
    "scores_5 = ssim(ref_vid_y, dis_dcp_atm_vid_y)\n",
    "\n",
    "plt.figure(figsize=(10, 8), dpi=80)\n",
    "plt.plot(range(len(scores_1)),scores_1)\n",
    "plt.plot(range(len(scores_2)),scores_2)\n",
    "plt.plot(range(len(scores_3)),scores_3)\n",
    "plt.plot(range(len(scores_4)),scores_4)\n",
    "plt.plot(range(len(scores_5)),scores_5)\n",
    "\n",
    "plt.legend(['Original-Hazy','Original-CAP', 'Original-DCP', 'Original-CAP-AT', 'Original-DCP-AT'], loc='upper left')\n",
    "plt.xlabel('Frames Index')\n",
    "plt.ylabel('SSIM')\n",
    "plt.grid()\n",
    "# plt.savefig('../result/vqs_ssim.png')\n",
    "plt.show()"
   ]
  },
  {
   "cell_type": "code",
   "execution_count": null,
   "id": "c455873c-8bfe-450d-a22a-f3ed80429109",
   "metadata": {},
   "outputs": [],
   "source": [
    "scores_0 = skvideo.measure.strred(ref_vid_gray, ref_vid_gray)\n",
    "scores_1 = skvideo.measure.strred(ref_vid_gray, haz_vid_gray)\n",
    "scores_2 = skvideo.measure.strred(ref_vid_gray, dis_cap_vid_gray)\n",
    "scores_3 = skvideo.measure.strred(ref_vid_gray, dis_dcp_vid_gray)\n",
    "scores_4 = skvideo.measure.strred(ref_vid_gray, dis_cap_atm_vid_gray)\n",
    "scores_5 = skvideo.measure.strred(ref_vid_gray, dis_dcp_atm_vid_gray)"
   ]
  },
  {
   "cell_type": "code",
   "execution_count": null,
   "id": "61267215-579c-4f78-8d49-2f09bf9232d7",
   "metadata": {},
   "outputs": [],
   "source": [
    "plt.figure(figsize=(5, 5), dpi=80)\n",
    "plt.scatter(scores_0[0][:,2],scores_0[0][:,3])\n",
    "plt.scatter(scores_1[0][:,2],scores_1[0][:,3])\n",
    "plt.scatter(scores_2[0][:,2],scores_2[0][:,3])\n",
    "plt.scatter(scores_3[0][:,2],scores_3[0][:,3])\n",
    "plt.scatter(scores_4[0][:,2],scores_4[0][:,3])\n",
    "plt.scatter(scores_5[0][:,2],scores_5[0][:,3])\n",
    "\n",
    "plt.legend(['Original-Original', 'Original-Hazy','Original-CAP', 'Original-DCP', 'Original-CAP-AT', 'Original-DCP-AT'], loc='lower right')\n",
    "plt.xlabel('Reduced reference Spatial score')\n",
    "plt.ylabel('Reduced reference Temporal score')\n",
    "plt.grid()\n",
    "# plt.savefig('../result/vqs_strred.png')\n",
    "plt.show()"
   ]
  },
  {
   "cell_type": "code",
   "execution_count": null,
   "id": "ece31422-4910-4f1e-b220-56293b2e0dae",
   "metadata": {},
   "outputs": [],
   "source": [
    "# plt.figure(figsize=(5, 5), dpi=80)\n",
    "fig = plt.figure(figsize=(10, 10), dpi=80)\n",
    "ax = fig.add_subplot(projection='3d')\n",
    "ax.scatter(range(len(scores_0[0][:,3])), scores_0[0][:,2],scores_0[0][:,3])\n",
    "ax.scatter(range(len(scores_1[0][:,3])), scores_1[0][:,2],scores_1[0][:,3])\n",
    "ax.scatter(range(len(scores_2[0][:,3])), scores_2[0][:,2],scores_2[0][:,3])\n",
    "ax.scatter(range(len(scores_3[0][:,3])), scores_3[0][:,2],scores_3[0][:,3])\n",
    "ax.scatter(range(len(scores_4[0][:,3])), scores_4[0][:,2],scores_4[0][:,3])\n",
    "ax.scatter(range(len(scores_5[0][:,3])), scores_5[0][:,2],scores_5[0][:,3])\n",
    "\n",
    "ax.legend(['Original-Original', 'Original-Hazy','Original-CAP', 'Original-DCP', 'Original-CAP-AT', 'Original-DCP-AT'], loc='upper left')\n",
    "ax.set_ylabel('RR Spatial score')\n",
    "ax.set_zlabel('RR Temporal score')\n",
    "ax.set_xlabel('Frames Index')\n",
    "ax.grid()\n",
    "# fig.savefig('../result/vqs_strred_3d.png')"
   ]
  },
  {
   "cell_type": "code",
   "execution_count": null,
   "id": "e9727a9b-ab62-45c3-8080-7ee4e09e9cc0",
   "metadata": {},
   "outputs": [],
   "source": [
    "scores_0 = brisque_features(ref_vid_gray)\n",
    "scores_1 = brisque_features(haz_vid_gray)\n",
    "scores_2 = brisque_features(dis_cap_vid_gray)\n",
    "scores_3 = brisque_features(dis_dcp_vid_gray)\n",
    "scores_4 = brisque_features(dis_cap_atm_vid_gray)\n",
    "scores_5 = brisque_features(dis_dcp_atm_vid_gray)\n",
    "plt.figure(figsize=(10, 8), dpi=80)\n",
    "plt.plot(range(len(scores_0)),np.mean(scores_0, axis=1))\n",
    "plt.plot(range(len(scores_1)),np.mean(scores_1, axis=1))\n",
    "plt.plot(range(len(scores_2)),np.mean(scores_2, axis=1))\n",
    "plt.plot(range(len(scores_3)),np.mean(scores_3, axis=1))\n",
    "plt.plot(range(len(scores_4)),np.mean(scores_4, axis=1))\n",
    "plt.plot(range(len(scores_5)),np.mean(scores_5, axis=1))\n",
    "\n",
    "plt.legend(['Original', 'Hazy','CAP', 'DCP', 'CAP-AT', 'DCP-AT'], loc='upper right')\n",
    "plt.xlabel('Frames Index')\n",
    "plt.ylabel('BRISQUE')\n",
    "plt.grid()\n",
    "# plt.savefig('../result/vqs_brisque.png')\n",
    "plt.show()"
   ]
  }
 ],
 "metadata": {
  "kernelspec": {
   "display_name": "vision",
   "language": "python",
   "name": "vision"
  },
  "language_info": {
   "codemirror_mode": {
    "name": "ipython",
    "version": 3
   },
   "file_extension": ".py",
   "mimetype": "text/x-python",
   "name": "python",
   "nbconvert_exporter": "python",
   "pygments_lexer": "ipython3",
   "version": "3.7.11"
  }
 },
 "nbformat": 4,
 "nbformat_minor": 5
}
