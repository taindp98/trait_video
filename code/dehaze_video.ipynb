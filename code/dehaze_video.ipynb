{
 "cells": [
  {
   "cell_type": "markdown",
   "id": "49b97454-f41b-4c21-8128-538ab48c0227",
   "metadata": {},
   "source": [
    "# Notebook: Pipeline dehazing on Video"
   ]
  },
  {
   "cell_type": "code",
   "execution_count": 1,
   "id": "c2636a1e-1048-4189-a3ed-2d62264d8515",
   "metadata": {},
   "outputs": [],
   "source": [
    "%load_ext autoreload\n",
    "%autoreload 2\n",
    "import random\n",
    "from cap.dehaze import dehaze as cap_dehaze_img\n",
    "from dcp.dehaze import dehaze as dcp_dehaze_img\n",
    "from cap.dehaze import dehaze_video as cap_dehaze_vid\n",
    "from dcp.dehaze import dehaze_video as dcp_dehaze_vid\n",
    "\n",
    "from config import config\n",
    "import os\n",
    "from glob import glob\n",
    "from matplotlib import pyplot as plt\n",
    "import cv2\n",
    "from sklearn.metrics import mean_squared_error as compute_mse\n",
    "from skimage.metrics import peak_signal_noise_ratio as compute_psnr\n",
    "from skimage.metrics import structural_similarity as compute_ssim\n",
    "from tqdm import tqdm\n",
    "import timeit\n",
    "import numpy as np"
   ]
  },
  {
   "cell_type": "code",
   "execution_count": 2,
   "id": "ccd6b00e-b06a-4a94-ba2a-d7d50f93e17f",
   "metadata": {},
   "outputs": [],
   "source": [
    "_REVIDE_PATH = 'D:\\\\data\\\\dehaze\\\\REVIDE_inside\\\\Train'\n",
    "_RESULT_PATH = '../result'\n",
    "_VIDEO_PATH = 'D:\\\\data\\\\dehaze'"
   ]
  },
  {
   "cell_type": "code",
   "execution_count": 3,
   "id": "9002d1e1-d62c-477a-a920-9e11d1c38510",
   "metadata": {},
   "outputs": [],
   "source": [
    "def fbf_dehaze_with_global_atm(hazy, method, bov, g_atm):\n",
    "    \"\"\"\n",
    "    hazy removal on video using frame-by-frame with global atmospheric\n",
    "    param:\n",
    "        hazy: is the hazy frame\n",
    "        method: is the name of dehazing method\n",
    "        bov: is the flag << begin of video >>\n",
    "        g_atm: is the global atmospheric value\n",
    "    return:\n",
    "        dehaze_frame: free-hazy frame\n",
    "        g_atm: is the refresh global atmospheric value\n",
    "        time: is the processing time\n",
    "    \"\"\"\n",
    "    start = timeit.default_timer()\n",
    "    if method == 'dcp':\n",
    "        dehaze_frame, g_atm = dcp_dehaze_vid(hazy, config['dcp'], g_atm, bov)\n",
    "    else:\n",
    "        dehaze_frame, g_atm = cap_dehaze_vid(hazy, config['cap'], g_atm, bov)\n",
    "    \n",
    "    end = timeit.default_timer()\n",
    "    time = end - start\n",
    "    return dehaze_frame, g_atm, time\n",
    "\n",
    "def fbf_dehaze_without_global_atm(hazy, method):\n",
    "    \"\"\"\n",
    "    hazy removal on video using frame-by-frame without global atmospheric\n",
    "    param:\n",
    "        hazy: is the hazy frame\n",
    "        method: is the name of dehazing method\n",
    "    return:\n",
    "        dehaze_frame: free-hazy frame\n",
    "        time: is the processing time\n",
    "    \"\"\"\n",
    "    start = timeit.default_timer()\n",
    "    if method == 'dcp':\n",
    "        dehaze_frame = dcp_dehaze_img(hazy, config['dcp'])\n",
    "    else:\n",
    "        dehaze_frame = cap_dehaze_img(hazy, config['cap'])\n",
    "    \n",
    "    end = timeit.default_timer()\n",
    "    time = end - start\n",
    "    return dehaze_frame, time"
   ]
  },
  {
   "cell_type": "code",
   "execution_count": 4,
   "id": "32d053d0-b026-4f0b-9547-14dea2904437",
   "metadata": {},
   "outputs": [],
   "source": [
    "def process_video(in_name, out_name, method, vid_fps, vid_size, use_global = True):\n",
    "    \"\"\"\n",
    "    \n",
    "    \"\"\"\n",
    "    cap = cv2.VideoCapture(os.path.join(_VIDEO_PATH,in_name))\n",
    "    fourcc = cv2.VideoWriter_fourcc(*'XVID')\n",
    "    out = cv2.VideoWriter(out_name, fourcc, vid_fps, vid_size)\n",
    "    list_time = []\n",
    "    while(cap.isOpened()):\n",
    "        ret, hazy_frame = cap.read()\n",
    "        try:\n",
    "            if (cv2.waitKey(1)) & (0xFF == ord('q')) & (hazy_frame is None):\n",
    "                cap.release()\n",
    "            else:\n",
    "                if use_global:\n",
    "                    if len(list_time)==0:\n",
    "                        bov = True\n",
    "                        g_atm = np.zeros((1,3))\n",
    "                    else:\n",
    "                        bov = False\n",
    "                    dehaze_frame, g_atm, time = fbf_dehaze_with_global_atm(hazy_frame, method, bov, g_atm)\n",
    "                else:\n",
    "                    dehaze_frame, time = fbf_dehaze_without_global_atm(hazy_frame, method)\n",
    "                list_time.append(time)\n",
    "                out.write(dehaze_frame)\n",
    "        except Exception as e:\n",
    "#             print(e)\n",
    "            cap.release()\n",
    "    out.release()\n",
    "    return list_time"
   ]
  },
  {
   "cell_type": "code",
   "execution_count": 5,
   "id": "a0a0467e-9821-464d-af45-d24a1d324eb0",
   "metadata": {},
   "outputs": [
    {
     "name": "stderr",
     "output_type": "stream",
     "text": [
      " 50%|████████████████████████████████                                | 1/2 [00:29<00:29, 29.59s/it]"
     ]
    },
    {
     "name": "stdout",
     "output_type": "stream",
     "text": [
      "'NoneType' object has no attribute 'copy'\n",
      "Processing time by dcp: 27.654\n"
     ]
    },
    {
     "name": "stderr",
     "output_type": "stream",
     "text": [
      "100%|████████████████████████████████████████████████████████████████| 2/2 [01:23<00:00, 41.74s/it]\n"
     ]
    },
    {
     "name": "stdout",
     "output_type": "stream",
     "text": [
      "OpenCV(4.5.3) C:\\Users\\runneradmin\\AppData\\Local\\Temp\\pip-req-build-c2l3r8zm\\opencv\\modules\\imgproc\\src\\color.cpp:182: error: (-215:Assertion failed) !_src.empty() in function 'cv::cvtColor'\n",
      "\n",
      "Processing time by cap: 52.268\n"
     ]
    },
    {
     "name": "stderr",
     "output_type": "stream",
     "text": [
      " 50%|████████████████████████████████                                | 1/2 [00:29<00:29, 29.29s/it]"
     ]
    },
    {
     "name": "stdout",
     "output_type": "stream",
     "text": [
      "'NoneType' object has no attribute 'copy'\n",
      "Processing time by dcp: 27.584\n"
     ]
    },
    {
     "name": "stderr",
     "output_type": "stream",
     "text": [
      "100%|████████████████████████████████████████████████████████████████| 2/2 [01:21<00:00, 40.93s/it]"
     ]
    },
    {
     "name": "stdout",
     "output_type": "stream",
     "text": [
      "OpenCV(4.5.3) C:\\Users\\runneradmin\\AppData\\Local\\Temp\\pip-req-build-c2l3r8zm\\opencv\\modules\\imgproc\\src\\color.cpp:182: error: (-215:Assertion failed) !_src.empty() in function 'cv::cvtColor'\n",
      "\n",
      "Processing time by cap: 50.951\n"
     ]
    },
    {
     "name": "stderr",
     "output_type": "stream",
     "text": [
      "\n"
     ]
    }
   ],
   "source": [
    "vid_in_name = 'E001_2\\\\hazy.avi'\n",
    "# vid_in_name = 'bedroom_0131\\\\hazy.avi'\n",
    "# vid_size = (640, 480)\n",
    "vid_size = (1280, 850)\n",
    "vid_fps = 60\n",
    "for g in [True, False]:\n",
    "    for method in tqdm(['dcp', 'cap']):\n",
    "        out_fold = os.path.join(_VIDEO_PATH, vid_in_name.split('\\\\')[0])\n",
    "        out_fold = os.path.join(out_fold, 'dehazy')\n",
    "        if not os.path.isdir(out_fold):\n",
    "            os.mkdir(out_fold)\n",
    "        vid_in = os.path.join(_VIDEO_PATH,vid_in_name)\n",
    "        if g:\n",
    "            vid_out = os.path.join(out_fold, f'{method}_gatm.avi')\n",
    "        else:\n",
    "            vid_out = os.path.join(out_fold, f'{method}.avi')\n",
    "        time = process_video(vid_in, vid_out, method, vid_fps, vid_size, use_global = g)\n",
    "        print(f'Processing time by {method}: {np.sum(time):.3f}')"
   ]
  }
 ],
 "metadata": {
  "kernelspec": {
   "display_name": "vision",
   "language": "python",
   "name": "vision"
  },
  "language_info": {
   "codemirror_mode": {
    "name": "ipython",
    "version": 3
   },
   "file_extension": ".py",
   "mimetype": "text/x-python",
   "name": "python",
   "nbconvert_exporter": "python",
   "pygments_lexer": "ipython3",
   "version": "3.7.11"
  }
 },
 "nbformat": 4,
 "nbformat_minor": 5
}
